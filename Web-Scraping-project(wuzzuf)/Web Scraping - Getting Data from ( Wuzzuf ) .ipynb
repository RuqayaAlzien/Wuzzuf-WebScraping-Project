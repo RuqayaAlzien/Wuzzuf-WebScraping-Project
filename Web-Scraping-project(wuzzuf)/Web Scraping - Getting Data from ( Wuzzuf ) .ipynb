{
 "cells": [
  {
   "cell_type": "code",
   "execution_count": 1,
   "id": "85ab4c05",
   "metadata": {},
   "outputs": [],
   "source": [
    "import requests\n",
    "from bs4 import BeautifulSoup\n",
    "import pandas as pd\n",
    "import time"
   ]
  },
  {
   "cell_type": "markdown",
   "id": "221b8e07",
   "metadata": {},
   "source": [
    "##### Function to extract job data from a single page"
   ]
  },
  {
   "cell_type": "code",
   "execution_count": 16,
   "id": "ea430d03",
   "metadata": {},
   "outputs": [],
   "source": [
    "def extract_data_from_page(url):\n",
    "    response = requests.get(url)\n",
    "    soup = BeautifulSoup(response.content, 'html.parser')\n",
    "    \n",
    "    containers = soup.find_all(\"div\", {\"class\": \"css-1gatmva e1v1l3u10\"})\n",
    "    \n",
    "    for i in containers:\n",
    "       \n",
    "        job_title = i.findAll(\"h2\", {\"class\": \"css-m604qf\"})\n",
    "        jTitle = job_title[0].text.strip() if job_title else 'N/A'\n",
    "        \n",
    "        job_type  = i.findAll(\"a\", {\"class\": \"css-n2jc4m\"})\n",
    "        jType = job_type[0].text.strip() if job_type else 'N/A'\n",
    "        \n",
    "        company_name = i.findAll(\"a\", {\"class\": \"css-17s97q8\"})\n",
    "        cName = company_name[0].text.strip() if company_name else 'N/A'\n",
    "        \n",
    "        job_titles.append(jTitle)\n",
    "        company_names.append(cName)\n",
    "        job_types.append(jType)\n"
   ]
  },
  {
   "cell_type": "markdown",
   "id": "7a2ec69f",
   "metadata": {},
   "source": [
    "##### Initialize lists to hold the data"
   ]
  },
  {
   "cell_type": "code",
   "execution_count": 4,
   "id": "545a57f2",
   "metadata": {},
   "outputs": [],
   "source": [
    "\n",
    "job_titles = []\n",
    "company_names = []\n",
    "job_types = []"
   ]
  },
  {
   "cell_type": "markdown",
   "id": "d309cbf4",
   "metadata": {},
   "source": [
    "##### URL pattern for Wuzzuf job search pages (assuming pagination with page numbers)"
   ]
  },
  {
   "cell_type": "code",
   "execution_count": 5,
   "id": "94f238af",
   "metadata": {},
   "outputs": [],
   "source": [
    "\n",
    "base_url = 'https://wuzzuf.net/search/jobs/?q=software&start='"
   ]
  },
  {
   "cell_type": "markdown",
   "id": "ec2e15cc",
   "metadata": {},
   "source": [
    "##### Loop through the first 5 pages (adjust as needed)"
   ]
  },
  {
   "cell_type": "code",
   "execution_count": 17,
   "id": "437924f2",
   "metadata": {},
   "outputs": [],
   "source": [
    "for page in range(0, 5): \n",
    "    url = f'{base_url}{page*15}'\n",
    "    extract_data_from_page(url)\n",
    "    time.sleep(2)  # Delay to prevent overloading the server"
   ]
  },
  {
   "cell_type": "markdown",
   "id": "c0d556b5",
   "metadata": {},
   "source": [
    "##### Create a DataFrame from the lists"
   ]
  },
  {
   "cell_type": "code",
   "execution_count": 19,
   "id": "bb2fe047",
   "metadata": {},
   "outputs": [],
   "source": [
    "df = pd.DataFrame({\n",
    "    'Job Title': job_titles,\n",
    "    'Company Name': job_types,\n",
    "    'Job Type': company_names\n",
    "})"
   ]
  },
  {
   "cell_type": "markdown",
   "id": "d2ba71f1",
   "metadata": {},
   "source": [
    "##### Save the DataFrame to a CSV file"
   ]
  },
  {
   "cell_type": "code",
   "execution_count": 8,
   "id": "6f1b9d56",
   "metadata": {},
   "outputs": [],
   "source": [
    "df.to_csv('wuzzuf_jobs.csv', index=False)"
   ]
  },
  {
   "cell_type": "code",
   "execution_count": 20,
   "id": "b467fd66",
   "metadata": {},
   "outputs": [
    {
     "data": {
      "text/html": [
       "<div>\n",
       "<style scoped>\n",
       "    .dataframe tbody tr th:only-of-type {\n",
       "        vertical-align: middle;\n",
       "    }\n",
       "\n",
       "    .dataframe tbody tr th {\n",
       "        vertical-align: top;\n",
       "    }\n",
       "\n",
       "    .dataframe thead th {\n",
       "        text-align: right;\n",
       "    }\n",
       "</style>\n",
       "<table border=\"1\" class=\"dataframe\">\n",
       "  <thead>\n",
       "    <tr style=\"text-align: right;\">\n",
       "      <th></th>\n",
       "      <th>Job Title</th>\n",
       "      <th>Company Name</th>\n",
       "      <th>Job Type</th>\n",
       "    </tr>\n",
       "  </thead>\n",
       "  <tbody>\n",
       "    <tr>\n",
       "      <th>0</th>\n",
       "      <td>Software Tester</td>\n",
       "      <td>RTR Software Solutions  -</td>\n",
       "      <td>Full Time</td>\n",
       "    </tr>\n",
       "    <tr>\n",
       "      <th>1</th>\n",
       "      <td>Software Account Manager</td>\n",
       "      <td>Confidential -</td>\n",
       "      <td>Full Time</td>\n",
       "    </tr>\n",
       "    <tr>\n",
       "      <th>2</th>\n",
       "      <td>Senior Software Engineer-Java</td>\n",
       "      <td>LINK Development -</td>\n",
       "      <td>Full Time</td>\n",
       "    </tr>\n",
       "    <tr>\n",
       "      <th>3</th>\n",
       "      <td>Software Business Analyst</td>\n",
       "      <td>Eg Insurtech -</td>\n",
       "      <td>Full Time</td>\n",
       "    </tr>\n",
       "    <tr>\n",
       "      <th>4</th>\n",
       "      <td>Software Testing Engineer</td>\n",
       "      <td>DMS -</td>\n",
       "      <td>Full Time</td>\n",
       "    </tr>\n",
       "    <tr>\n",
       "      <th>5</th>\n",
       "      <td>Software Tester</td>\n",
       "      <td>OdooTec -</td>\n",
       "      <td>Full Time</td>\n",
       "    </tr>\n",
       "    <tr>\n",
       "      <th>6</th>\n",
       "      <td>Software Business Analyst</td>\n",
       "      <td>Rehletk -</td>\n",
       "      <td>Freelance / Project</td>\n",
       "    </tr>\n",
       "    <tr>\n",
       "      <th>7</th>\n",
       "      <td>Head Of Software Development</td>\n",
       "      <td>Cubic Information Systems -</td>\n",
       "      <td>Full Time</td>\n",
       "    </tr>\n",
       "    <tr>\n",
       "      <th>8</th>\n",
       "      <td>Software Developer - C# .Net</td>\n",
       "      <td>Confidential -</td>\n",
       "      <td>Full Time</td>\n",
       "    </tr>\n",
       "    <tr>\n",
       "      <th>9</th>\n",
       "      <td>Software sales</td>\n",
       "      <td>ITSP Group  -</td>\n",
       "      <td>Full Time</td>\n",
       "    </tr>\n",
       "    <tr>\n",
       "      <th>10</th>\n",
       "      <td>Software Tester</td>\n",
       "      <td>Tafeel -</td>\n",
       "      <td>Full Time</td>\n",
       "    </tr>\n",
       "    <tr>\n",
       "      <th>11</th>\n",
       "      <td>Software Quality Control Engineer</td>\n",
       "      <td>3S Software -</td>\n",
       "      <td>Full Time</td>\n",
       "    </tr>\n",
       "    <tr>\n",
       "      <th>12</th>\n",
       "      <td>Software Sales Esecutive</td>\n",
       "      <td>Bevatel -</td>\n",
       "      <td>Full Time</td>\n",
       "    </tr>\n",
       "    <tr>\n",
       "      <th>13</th>\n",
       "      <td>Part-Time Odoo Software Specialist</td>\n",
       "      <td>3by9 -</td>\n",
       "      <td>Part Time</td>\n",
       "    </tr>\n",
       "    <tr>\n",
       "      <th>14</th>\n",
       "      <td>Lead Software Quality Engineer</td>\n",
       "      <td>Easy Cash -</td>\n",
       "      <td>Full Time</td>\n",
       "    </tr>\n",
       "    <tr>\n",
       "      <th>15</th>\n",
       "      <td>Senior Full Stack Developer</td>\n",
       "      <td>Giza Cable Industries -</td>\n",
       "      <td>Full Time</td>\n",
       "    </tr>\n",
       "    <tr>\n",
       "      <th>16</th>\n",
       "      <td>AI Developer</td>\n",
       "      <td>qTech.  -</td>\n",
       "      <td>Full Time</td>\n",
       "    </tr>\n",
       "    <tr>\n",
       "      <th>17</th>\n",
       "      <td>Chief Accountant</td>\n",
       "      <td>Semak -</td>\n",
       "      <td>Full Time</td>\n",
       "    </tr>\n",
       "    <tr>\n",
       "      <th>18</th>\n",
       "      <td>Real Estate Customer Service Representative</td>\n",
       "      <td>MENA For Contracting &amp; Trading -</td>\n",
       "      <td>Full Time</td>\n",
       "    </tr>\n",
       "    <tr>\n",
       "      <th>19</th>\n",
       "      <td>Senior Frontend Developer- Angular</td>\n",
       "      <td>Egabi FSI -</td>\n",
       "      <td>Full Time</td>\n",
       "    </tr>\n",
       "  </tbody>\n",
       "</table>\n",
       "</div>"
      ],
      "text/plain": [
       "                                      Job Title  \\\n",
       "0                               Software Tester   \n",
       "1                      Software Account Manager   \n",
       "2                 Senior Software Engineer-Java   \n",
       "3                     Software Business Analyst   \n",
       "4                     Software Testing Engineer   \n",
       "5                               Software Tester   \n",
       "6                     Software Business Analyst   \n",
       "7                  Head Of Software Development   \n",
       "8                  Software Developer - C# .Net   \n",
       "9                                Software sales   \n",
       "10                              Software Tester   \n",
       "11            Software Quality Control Engineer   \n",
       "12                     Software Sales Esecutive   \n",
       "13           Part-Time Odoo Software Specialist   \n",
       "14               Lead Software Quality Engineer   \n",
       "15                  Senior Full Stack Developer   \n",
       "16                                 AI Developer   \n",
       "17                             Chief Accountant   \n",
       "18  Real Estate Customer Service Representative   \n",
       "19           Senior Frontend Developer- Angular   \n",
       "\n",
       "                        Company Name             Job Type  \n",
       "0          RTR Software Solutions  -            Full Time  \n",
       "1                     Confidential -            Full Time  \n",
       "2                 LINK Development -            Full Time  \n",
       "3                     Eg Insurtech -            Full Time  \n",
       "4                              DMS -            Full Time  \n",
       "5                          OdooTec -            Full Time  \n",
       "6                          Rehletk -  Freelance / Project  \n",
       "7        Cubic Information Systems -            Full Time  \n",
       "8                     Confidential -            Full Time  \n",
       "9                      ITSP Group  -            Full Time  \n",
       "10                          Tafeel -            Full Time  \n",
       "11                     3S Software -            Full Time  \n",
       "12                         Bevatel -            Full Time  \n",
       "13                            3by9 -            Part Time  \n",
       "14                       Easy Cash -            Full Time  \n",
       "15           Giza Cable Industries -            Full Time  \n",
       "16                         qTech.  -            Full Time  \n",
       "17                           Semak -            Full Time  \n",
       "18  MENA For Contracting & Trading -            Full Time  \n",
       "19                       Egabi FSI -            Full Time  "
      ]
     },
     "execution_count": 20,
     "metadata": {},
     "output_type": "execute_result"
    }
   ],
   "source": [
    "df.head(20)"
   ]
  },
  {
   "cell_type": "code",
   "execution_count": 21,
   "id": "9340fb7a",
   "metadata": {},
   "outputs": [
    {
     "data": {
      "text/html": [
       "<div>\n",
       "<style scoped>\n",
       "    .dataframe tbody tr th:only-of-type {\n",
       "        vertical-align: middle;\n",
       "    }\n",
       "\n",
       "    .dataframe tbody tr th {\n",
       "        vertical-align: top;\n",
       "    }\n",
       "\n",
       "    .dataframe thead th {\n",
       "        text-align: right;\n",
       "    }\n",
       "</style>\n",
       "<table border=\"1\" class=\"dataframe\">\n",
       "  <thead>\n",
       "    <tr style=\"text-align: right;\">\n",
       "      <th></th>\n",
       "      <th>Job Title</th>\n",
       "      <th>Company Name</th>\n",
       "      <th>Job Type</th>\n",
       "    </tr>\n",
       "  </thead>\n",
       "  <tbody>\n",
       "    <tr>\n",
       "      <th>count</th>\n",
       "      <td>150</td>\n",
       "      <td>150</td>\n",
       "      <td>150</td>\n",
       "    </tr>\n",
       "    <tr>\n",
       "      <th>unique</th>\n",
       "      <td>67</td>\n",
       "      <td>62</td>\n",
       "      <td>62</td>\n",
       "    </tr>\n",
       "    <tr>\n",
       "      <th>top</th>\n",
       "      <td>Software Tester</td>\n",
       "      <td>Full Time</td>\n",
       "      <td>Full Time</td>\n",
       "    </tr>\n",
       "    <tr>\n",
       "      <th>freq</th>\n",
       "      <td>6</td>\n",
       "      <td>69</td>\n",
       "      <td>69</td>\n",
       "    </tr>\n",
       "  </tbody>\n",
       "</table>\n",
       "</div>"
      ],
      "text/plain": [
       "              Job Title Company Name   Job Type\n",
       "count               150          150        150\n",
       "unique               67           62         62\n",
       "top     Software Tester    Full Time  Full Time\n",
       "freq                  6           69         69"
      ]
     },
     "execution_count": 21,
     "metadata": {},
     "output_type": "execute_result"
    }
   ],
   "source": [
    "df.describe()"
   ]
  },
  {
   "cell_type": "code",
   "execution_count": 22,
   "id": "92547ebd",
   "metadata": {},
   "outputs": [
    {
     "name": "stdout",
     "output_type": "stream",
     "text": [
      "<class 'pandas.core.frame.DataFrame'>\n",
      "RangeIndex: 150 entries, 0 to 149\n",
      "Data columns (total 3 columns):\n",
      " #   Column        Non-Null Count  Dtype \n",
      "---  ------        --------------  ----- \n",
      " 0   Job Title     150 non-null    object\n",
      " 1   Company Name  150 non-null    object\n",
      " 2   Job Type      150 non-null    object\n",
      "dtypes: object(3)\n",
      "memory usage: 3.6+ KB\n"
     ]
    }
   ],
   "source": [
    "df.info()"
   ]
  },
  {
   "cell_type": "code",
   "execution_count": 23,
   "id": "b759cb93",
   "metadata": {},
   "outputs": [
    {
     "data": {
      "text/plain": [
       "Job Title       0\n",
       "Company Name    0\n",
       "Job Type        0\n",
       "dtype: int64"
      ]
     },
     "execution_count": 23,
     "metadata": {},
     "output_type": "execute_result"
    }
   ],
   "source": [
    "df.isna().sum()"
   ]
  },
  {
   "cell_type": "code",
   "execution_count": 25,
   "id": "e0fb4a30",
   "metadata": {},
   "outputs": [
    {
     "data": {
      "text/plain": [
       "0"
      ]
     },
     "execution_count": 25,
     "metadata": {},
     "output_type": "execute_result"
    }
   ],
   "source": [
    "df.duplicated().sum()"
   ]
  }
 ],
 "metadata": {
  "kernelspec": {
   "display_name": "Python 3 (ipykernel)",
   "language": "python",
   "name": "python3"
  },
  "language_info": {
   "codemirror_mode": {
    "name": "ipython",
    "version": 3
   },
   "file_extension": ".py",
   "mimetype": "text/x-python",
   "name": "python",
   "nbconvert_exporter": "python",
   "pygments_lexer": "ipython3",
   "version": "3.11.5"
  }
 },
 "nbformat": 4,
 "nbformat_minor": 5
}
